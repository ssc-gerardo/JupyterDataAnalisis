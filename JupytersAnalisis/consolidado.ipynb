{
 "cells": [
  {
   "cell_type": "code",
   "execution_count": 1,
   "metadata": {},
   "outputs": [],
   "source": [
    "import pandas as pd\n",
    "import numpy as np\n",
    "from IPython.display import HTML\n",
    "import os"
   ]
  },
  {
   "cell_type": "code",
   "execution_count": 2,
   "metadata": {},
   "outputs": [
    {
     "data": {
      "text/plain": [
       "['.ipynb_checkpoints',\n",
       " '19 hermanos 2019.xlsx',\n",
       " 'abarrotes loo 2019.xlsx',\n",
       " 'abarrotes san luis 2019.xlsx',\n",
       " 'abeja 2019.xlsx',\n",
       " 'acertijo 2019.xlsx',\n",
       " 'anicetos 2019.xlsx',\n",
       " 'avila 2019.xlsx',\n",
       " 'cagsa 2019.xlsx',\n",
       " 'coma 2019.xlsx',\n",
       " 'conasupo 2019.xlsx',\n",
       " 'corvi 2019.xlsx',\n",
       " 'decasa 2019.xlsx',\n",
       " 'demuflo 2019.xlsx',\n",
       " 'depsa 2019.xlsx',\n",
       " 'dinastia 2019.xlsx',\n",
       " 'dipepsa 2019.xlsx',\n",
       " 'duero 2019.xlsx',\n",
       " 'el nivel 2019.xlsx',\n",
       " 'el sitio 2019.xlsx',\n",
       " 'entregas ab 2019.xlsx',\n",
       " 'estanza 2019.xlsx',\n",
       " 'fuentes 2019.xlsx',\n",
       " 'garis 2019.xlsx',\n",
       " 'grupo z 2019.xlsx',\n",
       " 'guemil 2019.xlsx',\n",
       " 'gutierrez 2019.xlsx',\n",
       " 'hgar y comercio 2019.xlsx',\n",
       " 'ibarra 2019.xlsx',\n",
       " 'jm 2019.xlsx',\n",
       " 'la griega 2019.xlsx',\n",
       " 'medimex 2019.xlsx',\n",
       " 'mendez serrano 2019.xlsx',\n",
       " 'monterrey 2019.xlsx',\n",
       " 'morfin 2019.xlsx',\n",
       " 'nadro 2019.xlsx',\n",
       " 'nieto 2019.xlsx',\n",
       " 'oriente del sur 2019.xlsx',\n",
       " 'parral 2019.xlsx',\n",
       " 'propasa.xlsx',\n",
       " 'puma 2019.xlsx',\n",
       " 'quantum 2019.xlsx',\n",
       " 'rivera 2019.xlsx',\n",
       " 'san pablo 2019.xlsx',\n",
       " 'sanchez 2019.xlsx',\n",
       " 'scorpion 2019.xlsx',\n",
       " 'solana 2019.xlsx',\n",
       " 'su super 2019.xlsx',\n",
       " 'summa 2019.xlsx',\n",
       " 'super san francisco 2019.xlsx',\n",
       " 'super tiendas del hogar 2019.xlsx',\n",
       " 'tiendas 3b 2019.xlsx',\n",
       " 'treviño 2019.xlsx',\n",
       " 'unam 2019.xlsx',\n",
       " 'Untitled.ipynb',\n",
       " 'vargas 2019.xlsx',\n",
       " 'waldos 2019.xlsx',\n",
       " 'zorro 2019.xlsx']"
      ]
     },
     "execution_count": 2,
     "metadata": {},
     "output_type": "execute_result"
    }
   ],
   "source": [
    "path = os.getcwd()\n",
    "files = os.listdir(path)\n",
    "files\n"
   ]
  },
  {
   "cell_type": "code",
   "execution_count": 5,
   "metadata": {},
   "outputs": [
    {
     "data": {
      "text/plain": [
       "['19 hermanos 2019.xlsx',\n",
       " 'abarrotes loo 2019.xlsx',\n",
       " 'abarrotes san luis 2019.xlsx',\n",
       " 'abeja 2019.xlsx',\n",
       " 'acertijo 2019.xlsx',\n",
       " 'anicetos 2019.xlsx',\n",
       " 'avila 2019.xlsx',\n",
       " 'cagsa 2019.xlsx',\n",
       " 'coma 2019.xlsx',\n",
       " 'conasupo 2019.xlsx',\n",
       " 'corvi 2019.xlsx',\n",
       " 'decasa 2019.xlsx',\n",
       " 'demuflo 2019.xlsx',\n",
       " 'depsa 2019.xlsx',\n",
       " 'dinastia 2019.xlsx',\n",
       " 'dipepsa 2019.xlsx',\n",
       " 'duero 2019.xlsx',\n",
       " 'el nivel 2019.xlsx',\n",
       " 'el sitio 2019.xlsx',\n",
       " 'entregas ab 2019.xlsx',\n",
       " 'estanza 2019.xlsx',\n",
       " 'fuentes 2019.xlsx',\n",
       " 'garis 2019.xlsx',\n",
       " 'grupo z 2019.xlsx',\n",
       " 'guemil 2019.xlsx',\n",
       " 'gutierrez 2019.xlsx',\n",
       " 'hgar y comercio 2019.xlsx',\n",
       " 'ibarra 2019.xlsx',\n",
       " 'jm 2019.xlsx',\n",
       " 'la griega 2019.xlsx',\n",
       " 'medimex 2019.xlsx',\n",
       " 'mendez serrano 2019.xlsx',\n",
       " 'monterrey 2019.xlsx',\n",
       " 'morfin 2019.xlsx',\n",
       " 'nadro 2019.xlsx',\n",
       " 'nieto 2019.xlsx',\n",
       " 'oriente del sur 2019.xlsx',\n",
       " 'parral 2019.xlsx',\n",
       " 'propasa.xlsx',\n",
       " 'puma 2019.xlsx',\n",
       " 'quantum 2019.xlsx',\n",
       " 'rivera 2019.xlsx',\n",
       " 'san pablo 2019.xlsx',\n",
       " 'sanchez 2019.xlsx',\n",
       " 'scorpion 2019.xlsx',\n",
       " 'solana 2019.xlsx',\n",
       " 'su super 2019.xlsx',\n",
       " 'summa 2019.xlsx',\n",
       " 'super san francisco 2019.xlsx',\n",
       " 'super tiendas del hogar 2019.xlsx',\n",
       " 'tiendas 3b 2019.xlsx',\n",
       " 'treviño 2019.xlsx',\n",
       " 'unam 2019.xlsx',\n",
       " 'vargas 2019.xlsx',\n",
       " 'waldos 2019.xlsx',\n",
       " 'zorro 2019.xlsx']"
      ]
     },
     "execution_count": 5,
     "metadata": {},
     "output_type": "execute_result"
    }
   ],
   "source": [
    "files_xls = [f for f in files if f[-4:] == 'xlsx']\n",
    "files_xls"
   ]
  },
  {
   "cell_type": "code",
   "execution_count": null,
   "metadata": {},
   "outputs": [],
   "source": []
  }
 ],
 "metadata": {
  "kernelspec": {
   "display_name": "Python 3",
   "language": "python",
   "name": "python3"
  },
  "language_info": {
   "codemirror_mode": {
    "name": "ipython",
    "version": 3
   },
   "file_extension": ".py",
   "mimetype": "text/x-python",
   "name": "python",
   "nbconvert_exporter": "python",
   "pygments_lexer": "ipython3",
   "version": "3.7.4"
  }
 },
 "nbformat": 4,
 "nbformat_minor": 2
}
