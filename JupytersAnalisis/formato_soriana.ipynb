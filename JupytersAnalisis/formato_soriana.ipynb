{
 "cells": [
  {
   "cell_type": "code",
   "execution_count": 1,
   "metadata": {},
   "outputs": [],
   "source": [
    "import pandas as pd\n",
    "import numpy as np\n",
    "from IPython.display import HTML\n",
    "import os"
   ]
  },
  {
   "cell_type": "code",
   "execution_count": 2,
   "metadata": {},
   "outputs": [
    {
     "data": {
      "text/plain": [
       "['.ipynb_checkpoints', '.~lock.3.csv#', '3.csv', 'formato_soriana.ipynb']"
      ]
     },
     "execution_count": 2,
     "metadata": {},
     "output_type": "execute_result"
    }
   ],
   "source": [
    "path = os.getcwd()\n",
    "files = os.listdir(path)\n",
    "files\n"
   ]
  },
  {
   "cell_type": "code",
   "execution_count": 3,
   "metadata": {},
   "outputs": [
    {
     "data": {
      "text/plain": [
       "['3.csv']"
      ]
     },
     "execution_count": 3,
     "metadata": {},
     "output_type": "execute_result"
    }
   ],
   "source": [
    "files_txt = [f for f in files if f[-3:] == 'csv']\n",
    "files_txt"
   ]
  },
  {
   "cell_type": "code",
   "execution_count": 4,
   "metadata": {},
   "outputs": [
    {
     "name": "stdout",
     "output_type": "stream",
     "text": [
      "3\n"
     ]
    },
    {
     "data": {
      "text/plain": [
       "['3']"
      ]
     },
     "execution_count": 4,
     "metadata": {},
     "output_type": "execute_result"
    }
   ],
   "source": [
    "solo_mes=[]\n",
    "for f in files_txt:\n",
    "    a=f.replace(\".csv\", \"\")\n",
    "    solo_mes.append(a)\n",
    "    print (a)\n",
    "#solo_mes=files_txt.replace(\".csv\", \"\")\n",
    "solo_mes"
   ]
  },
  {
   "cell_type": "code",
   "execution_count": 5,
   "metadata": {},
   "outputs": [],
   "source": [
    "import chardet\n",
    "def find_encoding(fname):\n",
    "    r_file = open(fname, 'rb').read()\n",
    "    result = chardet.detect(r_file)\n",
    "    charenc = result['encoding']\n",
    "    return charenc\n",
    "\n",
    "#my_encoding = find_encoding('carga agosto/al super/al_super.csv')\n",
    "\n",
    "#carga_al_super = pd.read_csv('carga agosto/al super/al_super.csv', delimiter=',', encoding=my_encoding)\n",
    "\n",
    "#carga_al_super"
   ]
  },
  {
   "cell_type": "code",
   "execution_count": 6,
   "metadata": {},
   "outputs": [
    {
     "name": "stdout",
     "output_type": "stream",
     "text": [
      "3.csv\n",
      "     tienda            sku   ano mes        piezas  compras_unidades  \\\n",
      "0         0  7501019006081  2018   3   12,629.000                  0   \n",
      "1         0  7501019006647  2018   3   50,964.000                  0   \n",
      "2         0  7501019006319  2018   3   21,847.000                  0   \n",
      "3         0  7501019002069  2018   3    3,637.000                  0   \n",
      "4         0  7501019002007  2018   3    2,057.000                  0   \n",
      "..      ...            ...   ...  ..           ...               ...   \n",
      "244       0  7502004808239  2018   3           NaN                 0   \n",
      "245       0  7501019036712  2018   3           NaN                 0   \n",
      "246       0  7501019051531  2018   3           NaN                 0   \n",
      "247       0  7501019054686  2018   3           NaN                 0   \n",
      "248       0  7501019054884  2018   3           NaN                 0   \n",
      "\n",
      "              inv          vta  importe_compra  \n",
      "0     10,618.000    622993.023               0  \n",
      "1     44,867.000   1286831.455               0  \n",
      "2     29,508.000    587428.428               0  \n",
      "3      5,494.000     92176.318               0  \n",
      "4      2,423.000     45607.958               0  \n",
      "..            ...          ...             ...  \n",
      "244       -1.000         0.000               0  \n",
      "245        1.000         0.000               0  \n",
      "246        5.000         0.000               0  \n",
      "247        3.000         0.000               0  \n",
      "248        3.000       142.380               0  \n",
      "\n",
      "[249 rows x 9 columns]\n"
     ]
    },
    {
     "data": {
      "text/html": [
       "<div>\n",
       "<style scoped>\n",
       "    .dataframe tbody tr th:only-of-type {\n",
       "        vertical-align: middle;\n",
       "    }\n",
       "\n",
       "    .dataframe tbody tr th {\n",
       "        vertical-align: top;\n",
       "    }\n",
       "\n",
       "    .dataframe thead th {\n",
       "        text-align: right;\n",
       "    }\n",
       "</style>\n",
       "<table border=\"1\" class=\"dataframe\">\n",
       "  <thead>\n",
       "    <tr style=\"text-align: right;\">\n",
       "      <th></th>\n",
       "      <th>tienda</th>\n",
       "      <th>sku</th>\n",
       "      <th>ano</th>\n",
       "      <th>mes</th>\n",
       "      <th>piezas</th>\n",
       "      <th>compras_unidades</th>\n",
       "      <th>inv</th>\n",
       "      <th>vta</th>\n",
       "      <th>importe_compra</th>\n",
       "    </tr>\n",
       "  </thead>\n",
       "  <tbody>\n",
       "    <tr>\n",
       "      <td>0</td>\n",
       "      <td>0</td>\n",
       "      <td>7501019006081</td>\n",
       "      <td>2018</td>\n",
       "      <td>3</td>\n",
       "      <td>12,629.000</td>\n",
       "      <td>0</td>\n",
       "      <td>10,618.000</td>\n",
       "      <td>622993.023</td>\n",
       "      <td>0</td>\n",
       "    </tr>\n",
       "    <tr>\n",
       "      <td>1</td>\n",
       "      <td>0</td>\n",
       "      <td>7501019006647</td>\n",
       "      <td>2018</td>\n",
       "      <td>3</td>\n",
       "      <td>50,964.000</td>\n",
       "      <td>0</td>\n",
       "      <td>44,867.000</td>\n",
       "      <td>1286831.455</td>\n",
       "      <td>0</td>\n",
       "    </tr>\n",
       "    <tr>\n",
       "      <td>2</td>\n",
       "      <td>0</td>\n",
       "      <td>7501019006319</td>\n",
       "      <td>2018</td>\n",
       "      <td>3</td>\n",
       "      <td>21,847.000</td>\n",
       "      <td>0</td>\n",
       "      <td>29,508.000</td>\n",
       "      <td>587428.428</td>\n",
       "      <td>0</td>\n",
       "    </tr>\n",
       "    <tr>\n",
       "      <td>3</td>\n",
       "      <td>0</td>\n",
       "      <td>7501019002069</td>\n",
       "      <td>2018</td>\n",
       "      <td>3</td>\n",
       "      <td>3,637.000</td>\n",
       "      <td>0</td>\n",
       "      <td>5,494.000</td>\n",
       "      <td>92176.318</td>\n",
       "      <td>0</td>\n",
       "    </tr>\n",
       "    <tr>\n",
       "      <td>4</td>\n",
       "      <td>0</td>\n",
       "      <td>7501019002007</td>\n",
       "      <td>2018</td>\n",
       "      <td>3</td>\n",
       "      <td>2,057.000</td>\n",
       "      <td>0</td>\n",
       "      <td>2,423.000</td>\n",
       "      <td>45607.958</td>\n",
       "      <td>0</td>\n",
       "    </tr>\n",
       "    <tr>\n",
       "      <td>...</td>\n",
       "      <td>...</td>\n",
       "      <td>...</td>\n",
       "      <td>...</td>\n",
       "      <td>...</td>\n",
       "      <td>...</td>\n",
       "      <td>...</td>\n",
       "      <td>...</td>\n",
       "      <td>...</td>\n",
       "      <td>...</td>\n",
       "    </tr>\n",
       "    <tr>\n",
       "      <td>244</td>\n",
       "      <td>0</td>\n",
       "      <td>7502004808239</td>\n",
       "      <td>2018</td>\n",
       "      <td>3</td>\n",
       "      <td>NaN</td>\n",
       "      <td>0</td>\n",
       "      <td>-1.000</td>\n",
       "      <td>0.000</td>\n",
       "      <td>0</td>\n",
       "    </tr>\n",
       "    <tr>\n",
       "      <td>245</td>\n",
       "      <td>0</td>\n",
       "      <td>7501019036712</td>\n",
       "      <td>2018</td>\n",
       "      <td>3</td>\n",
       "      <td>NaN</td>\n",
       "      <td>0</td>\n",
       "      <td>1.000</td>\n",
       "      <td>0.000</td>\n",
       "      <td>0</td>\n",
       "    </tr>\n",
       "    <tr>\n",
       "      <td>246</td>\n",
       "      <td>0</td>\n",
       "      <td>7501019051531</td>\n",
       "      <td>2018</td>\n",
       "      <td>3</td>\n",
       "      <td>NaN</td>\n",
       "      <td>0</td>\n",
       "      <td>5.000</td>\n",
       "      <td>0.000</td>\n",
       "      <td>0</td>\n",
       "    </tr>\n",
       "    <tr>\n",
       "      <td>247</td>\n",
       "      <td>0</td>\n",
       "      <td>7501019054686</td>\n",
       "      <td>2018</td>\n",
       "      <td>3</td>\n",
       "      <td>NaN</td>\n",
       "      <td>0</td>\n",
       "      <td>3.000</td>\n",
       "      <td>0.000</td>\n",
       "      <td>0</td>\n",
       "    </tr>\n",
       "    <tr>\n",
       "      <td>248</td>\n",
       "      <td>0</td>\n",
       "      <td>7501019054884</td>\n",
       "      <td>2018</td>\n",
       "      <td>3</td>\n",
       "      <td>NaN</td>\n",
       "      <td>0</td>\n",
       "      <td>3.000</td>\n",
       "      <td>142.380</td>\n",
       "      <td>0</td>\n",
       "    </tr>\n",
       "  </tbody>\n",
       "</table>\n",
       "<p>249 rows × 9 columns</p>\n",
       "</div>"
      ],
      "text/plain": [
       "     tienda            sku   ano mes        piezas  compras_unidades  \\\n",
       "0         0  7501019006081  2018   3   12,629.000                  0   \n",
       "1         0  7501019006647  2018   3   50,964.000                  0   \n",
       "2         0  7501019006319  2018   3   21,847.000                  0   \n",
       "3         0  7501019002069  2018   3    3,637.000                  0   \n",
       "4         0  7501019002007  2018   3    2,057.000                  0   \n",
       "..      ...            ...   ...  ..           ...               ...   \n",
       "244       0  7502004808239  2018   3           NaN                 0   \n",
       "245       0  7501019036712  2018   3           NaN                 0   \n",
       "246       0  7501019051531  2018   3           NaN                 0   \n",
       "247       0  7501019054686  2018   3           NaN                 0   \n",
       "248       0  7501019054884  2018   3           NaN                 0   \n",
       "\n",
       "              inv          vta  importe_compra  \n",
       "0     10,618.000    622993.023               0  \n",
       "1     44,867.000   1286831.455               0  \n",
       "2     29,508.000    587428.428               0  \n",
       "3      5,494.000     92176.318               0  \n",
       "4      2,423.000     45607.958               0  \n",
       "..            ...          ...             ...  \n",
       "244       -1.000         0.000               0  \n",
       "245        1.000         0.000               0  \n",
       "246        5.000         0.000               0  \n",
       "247        3.000         0.000               0  \n",
       "248        3.000       142.380               0  \n",
       "\n",
       "[249 rows x 9 columns]"
      ]
     },
     "execution_count": 6,
     "metadata": {},
     "output_type": "execute_result"
    }
   ],
   "source": [
    "df = pd.DataFrame()\n",
    "\n",
    "    #xl= pd.ExcelFile(archivo)\n",
    "    #sheetnames=xl.sheet_names\n",
    "    #file=[pd.read_excel(file, sheet_names=s) for s in sheetnames]\n",
    "    #df_archivo=pd.DataFrame(file[0])  \n",
    "\n",
    "for f in files_txt:\n",
    "    print(f)\n",
    "    my_encoding = find_encoding(f)\n",
    "    ndata = pd.read_csv(f, delimiter='!', names=[\"sku\",\"vta\",\"piezas\",\"inv\"], encoding=my_encoding)\n",
    "    #formato=dia[[\"sku\",\"vta\",\"piezas\",\"inv\"]]\n",
    "    #ndata.insert(0, \"mes\", f, True) \n",
    "    ndata.replace(' -   ','0')\n",
    "    #zndata[\"piezas\"].replace('-','0')\n",
    "    ndata[\"tienda\"] = 0\n",
    "    ndata[\"ano\"] = 2018\n",
    "    ndata[\"mes\"] = f.replace(\".csv\", \"\")\n",
    "    ndata[\"compras_unidades\"] = 0\n",
    "    ndata[\"importe_compra\"] = 0\n",
    "    final=ndata[[\"tienda\",\"sku\",\"ano\",\"mes\",\"piezas\",\"compras_unidades\",\"inv\",\"vta\",\"importe_compra\",]]\n",
    "    df1 = final[:100]\n",
    "    df2 = final[100:]\n",
    "    #print (ndata[:100])\n",
    "    #df1, df2 = final[:10, :], final[10:, :]\n",
    "    df1.to_csv(\"a\"+f, header=None, index=None, sep='!', mode='a')\n",
    "    df2.to_csv(\"ab\"+f, header=None, index=None, sep='!', mode='a')\n",
    "    print(final)\n",
    "    df=final\n",
    "    #print (ndata.to_float().sum())\n",
    "\n",
    "df"
   ]
  },
  {
   "cell_type": "code",
   "execution_count": 7,
   "metadata": {},
   "outputs": [],
   "source": [
    "#df.to_csv('abril19.txt', index=None, sep='!', mode='a')"
   ]
  },
  {
   "cell_type": "code",
   "execution_count": null,
   "metadata": {},
   "outputs": [],
   "source": []
  }
 ],
 "metadata": {
  "kernelspec": {
   "display_name": "Python 3",
   "language": "python",
   "name": "python3"
  },
  "language_info": {
   "codemirror_mode": {
    "name": "ipython",
    "version": 3
   },
   "file_extension": ".py",
   "mimetype": "text/x-python",
   "name": "python",
   "nbconvert_exporter": "python",
   "pygments_lexer": "ipython3",
   "version": "3.7.4"
  }
 },
 "nbformat": 4,
 "nbformat_minor": 2
}
